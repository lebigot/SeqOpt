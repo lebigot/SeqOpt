{
 "cells": [
  {
   "cell_type": "code",
   "execution_count": 1,
   "metadata": {
    "collapsed": false
   },
   "outputs": [],
   "source": [
    "import numpy as np\n",
    "import pandas as pd\n",
    "from sklearn.ensemble import RandomForestClassifier as RF\n",
    "from sklearn.ensemble import GradientBoostingClassifier as GB\n",
    "from sklearn.linear_model import LogisticRegression as LR\n",
    "from sklearn.svm import SVC\n",
    "from sklearn.cross_validation import train_test_split, StratifiedKFold\n",
    "from sklearn.grid_search import GridSearchCV, RandomizedSearchCV\n",
    "from sklearn.metrics import roc_auc_score, accuracy_score, log_loss\n",
    "from sklearn.base import clone\n",
    "from cleaning import *\n",
    "import sys"
   ]
  },
  {
   "cell_type": "code",
   "execution_count": 2,
   "metadata": {
    "collapsed": false
   },
   "outputs": [],
   "source": [
    "from datasetTester import datasetTester"
   ]
  },
  {
   "cell_type": "code",
   "execution_count": 3,
   "metadata": {
    "collapsed": true
   },
   "outputs": [],
   "source": [
    "param_sp_svc = {'gamma': [10**x for x in np.linspace(-4, 4, 41)], 'C': [10**x for x in np.linspace(-4, 4, 41)]}"
   ]
  },
  {
   "cell_type": "code",
   "execution_count": 4,
   "metadata": {
    "collapsed": false
   },
   "outputs": [],
   "source": [
    "d=datasetTester(algo='SVC', search='GS', score='ACC', logger='data/train_titanic_SVC.log', param_sp=param_sp_svc)"
   ]
  },
  {
   "cell_type": "code",
   "execution_count": 6,
   "metadata": {
    "collapsed": false
   },
   "outputs": [],
   "source": [
    "gs = GridSearchCV(d.algo(), param_grid=d.param_space, n_jobs=6, cv=3, iid=False, verbose=1)"
   ]
  },
  {
   "cell_type": "code",
   "execution_count": 7,
   "metadata": {
    "collapsed": false
   },
   "outputs": [
    {
     "name": "stderr",
     "output_type": "stream",
     "text": [
      "[Parallel(n_jobs=6)]: Done 168 tasks      | elapsed:    1.1s\n",
      "[Parallel(n_jobs=6)]: Done 1068 tasks      | elapsed:    5.4s\n",
      "[Parallel(n_jobs=6)]: Done 2568 tasks      | elapsed:   12.9s\n",
      "[Parallel(n_jobs=6)]: Done 4668 tasks      | elapsed:   32.8s\n",
      "[Parallel(n_jobs=6)]: Done 5043 out of 5043 | elapsed:  1.0min finished\n"
     ]
    },
    {
     "data": {
      "text/plain": [
       "GridSearchCV(cv=3, error_score='raise',\n",
       "       estimator=SVC(C=1.0, cache_size=200, class_weight=None, coef0=0.0,\n",
       "  decision_function_shape=None, degree=3, gamma='auto', kernel='rbf',\n",
       "  max_iter=-1, probability=False, random_state=None, shrinking=True,\n",
       "  tol=0.001, verbose=False),\n",
       "       fit_params={}, iid=False, n_jobs=6,\n",
       "       param_grid={'C': [0.0001, 0.00015848931924611142, 0.00025118864315095795, 0.00039810717055349735, 0.00063095734448019298, 0.001, 0.0015848931924611141, 0.002511886431509582, 0.0039810717055349734, 0.0063095734448019303, 0.01, 0.015848931924611141, 0.025118864315095822, 0.039810717055349734, 0.063095...425, 1000.0, 1584.893192461114, 2511.8864315095821, 3981.0717055349774, 6309.573444801943, 10000.0]},\n",
       "       pre_dispatch='2*n_jobs', refit=True, scoring=None, verbose=1)"
      ]
     },
     "execution_count": 7,
     "metadata": {},
     "output_type": "execute_result"
    }
   ],
   "source": [
    "gs.fit(d.input_data, d.output)"
   ]
  },
  {
   "cell_type": "code",
   "execution_count": 8,
   "metadata": {
    "collapsed": false
   },
   "outputs": [
    {
     "data": {
      "text/plain": [
       "(0.82491582491582494, {'C': 398.10717055349772, 'gamma': 0.10000000000000001})"
      ]
     },
     "execution_count": 8,
     "metadata": {},
     "output_type": "execute_result"
    }
   ],
   "source": [
    "gs.best_score_, gs.best_params_"
   ]
  },
  {
   "cell_type": "code",
   "execution_count": 9,
   "metadata": {
    "collapsed": false
   },
   "outputs": [],
   "source": [
    "gs_means = [(gs.grid_scores_[i].mean_validation_score) for i in range(len(gs.grid_scores_))]"
   ]
  },
  {
   "cell_type": "code",
   "execution_count": 10,
   "metadata": {
    "collapsed": false
   },
   "outputs": [],
   "source": [
    "gs_stds = [np.std(gs.grid_scores_[i].cv_validation_scores) for i in range(len(gs.grid_scores_))]"
   ]
  },
  {
   "cell_type": "code",
   "execution_count": 12,
   "metadata": {
    "collapsed": false
   },
   "outputs": [
    {
     "data": {
      "text/plain": [
       "(0.82491582491582494, 0.046519375479377595, 0.0021640522949913175)"
      ]
     },
     "execution_count": 12,
     "metadata": {},
     "output_type": "execute_result"
    }
   ],
   "source": [
    "max(gs_means), max(gs_stds), max(gs_stds)**2"
   ]
  },
  {
   "cell_type": "markdown",
   "metadata": {},
   "source": [
    "## Show results"
   ]
  },
  {
   "cell_type": "code",
   "execution_count": 13,
   "metadata": {
    "collapsed": false
   },
   "outputs": [],
   "source": [
    "array_means = np.asarray(gs_means).reshape(tuple([len(x) for x in d.param_space.values()]))"
   ]
  },
  {
   "cell_type": "code",
   "execution_count": 14,
   "metadata": {
    "collapsed": false
   },
   "outputs": [],
   "source": [
    "%matplotlib inline\n",
    "import matplotlib.pyplot as plt\n",
    "from pylab import cm\n",
    "from matplotlib.colors import LogNorm"
   ]
  },
  {
   "cell_type": "code",
   "execution_count": 15,
   "metadata": {
    "collapsed": false
   },
   "outputs": [],
   "source": [
    "i_max = [i for i in range(len(array_means)) if np.max(array_means) in array_means[i]][0]\n",
    "j_max = [j for j in range(len(array_means[i_max])) if np.max(array_means)==array_means[i_max,j]][0]"
   ]
  },
  {
   "cell_type": "code",
   "execution_count": 16,
   "metadata": {
    "collapsed": false
   },
   "outputs": [
    {
     "data": {
      "text/plain": [
       "(33, 15)"
      ]
     },
     "execution_count": 16,
     "metadata": {},
     "output_type": "execute_result"
    }
   ],
   "source": [
    "i_max, j_max"
   ]
  },
  {
   "cell_type": "code",
   "execution_count": 17,
   "metadata": {
    "collapsed": false
   },
   "outputs": [
    {
     "data": {
      "image/png": "[encoded data removed]",
      "text/plain": [
       "<matplotlib.figure.Figure at 0x7fe4abe09850>"
      ]
     },
     "metadata": {},
     "output_type": "display_data"
    }
   ],
   "source": [
    "fig = plt.figure(figsize=(10, 8))\n",
    "ax = fig.add_subplot(111)\n",
    "ax.set_yscale('log')\n",
    "ax.set_xscale('log')\n",
    "pc = ax.pcolor(param_sp_svc['C'], param_sp_svc['gamma'], array_means.T)\n",
    "plt.axvline(param_sp_svc['C'][i_max], color='white')\n",
    "plt.axhline(param_sp_svc['gamma'][j_max], color='white')\n",
    "plt.colorbar(pc, orientation=\"vertical\")\n",
    "plt.xlabel('parameter $C$')\n",
    "plt.ylabel('parameter $\\gamma$')\n",
    "plt.title(\"Accuracy colorplot (Titanic - SVC RBF - 3xCV)\\n Maximum is {0}\\n It is reached at {1}\\n\".format(max(gs_means),(param_sp_svc['C'][i_max], param_sp_svc['gamma'][j_max])))\n",
    "plt.show()"
   ]
  },
  {
   "cell_type": "markdown",
   "metadata": {},
   "source": [
    "# Random search"
   ]
  },
  {
   "cell_type": "code",
   "execution_count": 47,
   "metadata": {
    "collapsed": false
   },
   "outputs": [
    {
     "name": "stderr",
     "output_type": "stream",
     "text": [
      "[Parallel(n_jobs=10)]: Done  90 out of  90 | elapsed:    5.6s finished\n"
     ]
    },
    {
     "data": {
      "text/plain": [
       "RandomizedSearchCV(cv=3, error_score='raise',\n",
       "          estimator=SVC(C=1.0, cache_size=200, class_weight=None, coef0=0.0,\n",
       "  decision_function_shape=None, degree=3, gamma='auto', kernel='rbf',\n",
       "  max_iter=-1, probability=False, random_state=None, shrinking=True,\n",
       "  tol=0.001, verbose=False),\n",
       "          fit_params={}, iid=False, n_iter=30, n_jobs=10,\n",
       "          param_distributions={'C': [0.0001, 0.00015848931924611142, 0.00025118864315095795, 0.00039810717055349735, 0.00063095734448019298, 0.001, 0.0015848931924611141, 0.002511886431509582, 0.0039810717055349734, 0.0063095734448019303, 0.01, 0.015848931924611141, 0.025118864315095822, 0.039810717055349734,...425, 1000.0, 1584.893192461114, 2511.8864315095821, 3981.0717055349774, 6309.573444801943, 10000.0]},\n",
       "          pre_dispatch='2*n_jobs', random_state=None, refit=True,\n",
       "          scoring=None, verbose=1)"
      ]
     },
     "execution_count": 47,
     "metadata": {},
     "output_type": "execute_result"
    }
   ],
   "source": [
    "rs = RandomizedSearchCV(d.algo(),\n",
    "                        param_distributions=d.param_space,\n",
    "                        n_iter=30, n_jobs=10, cv=3, iid=False, verbose=1)\n",
    "rs.fit(d.input_data, d.output)\n"
   ]
  },
  {
   "cell_type": "code",
   "execution_count": 48,
   "metadata": {
    "collapsed": false
   },
   "outputs": [],
   "source": [
    "rs_means = [(rs.grid_scores_[i].mean_validation_score) for i in range(len(rs.grid_scores_))]"
   ]
  },
  {
   "cell_type": "code",
   "execution_count": 49,
   "metadata": {
    "collapsed": false
   },
   "outputs": [
    {
     "data": {
      "image/png": "[encoded data removed]",
      "text/plain": [
       "<matplotlib.figure.Figure at 0x7fe4a7841f50>"
      ]
     },
     "metadata": {},
     "output_type": "display_data"
    }
   ],
   "source": [
    "tested_params=[rs.grid_scores_[i].parameters for i in range(len(rs.grid_scores_))]\n",
    "tested_scores=[rs.grid_scores_[i].mean_validation_score for i in range(len(rs.grid_scores_))]\n",
    "tested_C = [test['C'] for test in tested_params]\n",
    "tested_gamma = [test['gamma'] for test in tested_params]\n",
    "indices_C = [d.param_space['C'].index(tested) for tested in tested_C]\n",
    "indices_gamma = [d.param_space['gamma'].index(tested) for tested in tested_gamma]\n",
    "array_means_rs = np.zeros(tuple([len(x) for x in d.param_space.values()]))\n",
    "for i in range(len(tested_scores)):\n",
    "    array_means_rs[indices_C[i], indices_gamma[i]] = tested_scores[i]\n",
    "i_max_rs = [i for i in range(len(array_means_rs)) if np.max(array_means_rs) in array_means_rs[i]][0]\n",
    "j_max_rs = [j for j in range(len(array_means_rs[i_max_rs])) if np.max(array_means_rs)==array_means_rs[i_max_rs,j]][0]\n",
    "fig = plt.figure(figsize=(10, 8))\n",
    "ax = fig.add_subplot(111)\n",
    "ax.set_yscale('log')\n",
    "ax.set_xscale('log')\n",
    "pc=ax.pcolor(param_sp_svc['C'], param_sp_svc['gamma'], array_means_rs.T)\n",
    "plt.axvline(param_sp_svc['C'][i_max_rs], color='white')\n",
    "plt.axhline(param_sp_svc['gamma'][j_max_rs], color='white')\n",
    "plt.colorbar(pc, orientation=\"vertical\")\n",
    "plt.xlabel('parameter $C$')\n",
    "plt.ylabel('parameter $\\gamma$')\n",
    "plt.title(\"Accuracy colorplot (Titanic - SVC RBF - 3xCV)\\n Maximum is {0}\\n It is reached at {1}\\n\".format(max(rs_means),(param_sp_svc['C'][i_max_rs], param_sp_svc['gamma'][j_max_rs])))\n",
    "plt.show()"
   ]
  },
  {
   "cell_type": "markdown",
   "metadata": {
    "collapsed": true
   },
   "source": [
    "# Replicate"
   ]
  },
  {
   "cell_type": "code",
   "execution_count": 30,
   "metadata": {
    "collapsed": true
   },
   "outputs": [],
   "source": [
    "rss = [RandomizedSearchCV(d.algo(), param_distributions=d.param_space, n_iter=30, n_jobs=10, cv=10, iid=False, verbose=1) for _ in range(5)]"
   ]
  },
  {
   "cell_type": "code",
   "execution_count": 31,
   "metadata": {
    "collapsed": false
   },
   "outputs": [
    {
     "name": "stderr",
     "output_type": "stream",
     "text": [
      "[Parallel(n_jobs=10)]: Done  45 tasks      | elapsed:    1.2s\n",
      "[Parallel(n_jobs=10)]: Done 300 out of 300 | elapsed:    3.1s finished\n",
      "[Parallel(n_jobs=10)]: Done  40 tasks      | elapsed:    0.5s\n",
      "[Parallel(n_jobs=10)]: Done 300 out of 300 | elapsed:   15.9s finished\n",
      "[Parallel(n_jobs=10)]: Done 176 tasks      | elapsed:    1.3s\n",
      "[Parallel(n_jobs=10)]: Done 300 out of 300 | elapsed:   30.6s finished\n",
      "[Parallel(n_jobs=10)]: Done  92 tasks      | elapsed:    0.9s\n",
      "[Parallel(n_jobs=10)]: Done 300 out of 300 | elapsed:    3.8s finished\n",
      "[Parallel(n_jobs=10)]: Done  60 tasks      | elapsed:    0.6s\n",
      "[Parallel(n_jobs=10)]: Done 300 out of 300 | elapsed:    3.7s finished\n"
     ]
    }
   ],
   "source": [
    "for rs in rss:\n",
    "    rs.fit(d.input_data, d.output)"
   ]
  }
 ],
 "metadata": {
  "kernelspec": {
   "display_name": "Python 2",
   "language": "python",
   "name": "python2"
  },
  "language_info": {
   "codemirror_mode": {
    "name": "ipython",
    "version": 2
   },
   "file_extension": ".py",
   "mimetype": "text/x-python",
   "name": "python",
   "nbconvert_exporter": "python",
   "pygments_lexer": "ipython2",
   "version": "2.7.11"
  }
 },
 "nbformat": 4,
 "nbformat_minor": 0
}
